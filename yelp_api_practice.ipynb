{
 "cells": [
  {
   "cell_type": "code",
   "execution_count": 1,
   "id": "3af1a72b",
   "metadata": {},
   "outputs": [],
   "source": [
    "import requests\n",
    "import pandas as pd\n",
    "from config import ykey\n",
    "import json\n",
    "import numpy as np"
   ]
  },
  {
   "cell_type": "code",
   "execution_count": 4,
   "id": "0058b1e0",
   "metadata": {},
   "outputs": [],
   "source": [
    "def get_businesses(location, term, api_key):\n",
    "    headers = {'Authorization': 'Bearer %s' % api_key}\n",
    "    url = 'https://api.yelp.com/v3/businesses/search'\n",
    "\n",
    "    data = []\n",
    "    for offset in range(0, 1000, 50):\n",
    "        params = {\n",
    "            'limit': 50, \n",
    "            'location': location.replace(' ', '+'),\n",
    "            'term': term.replace(' ', '+'),\n",
    "            'offset': offset\n",
    "        }\n",
    "\n",
    "        response = requests.get(url, headers=headers, params=params)\n",
    "        if response.status_code == 200:\n",
    "            data += response.json()['businesses']\n",
    "        elif response.status_code == 400:\n",
    "            print('400 Bad Request')\n",
    "            break\n",
    "\n",
    "    return data"
   ]
  },
  {
   "cell_type": "code",
   "execution_count": 3,
   "id": "4014d722",
   "metadata": {},
   "outputs": [],
   "source": [
    "#lambda x: x.split(\".\") found on stackoverflow to normalize all of the columns (seen in italian_vs_mexican.ipynb)\n",
    "\n",
    "italy_san_diego_df = pd.json_normalize(get_businesses('San Diego','italian',ykey))\n",
    "italy_san_diego_df.columns = italy_san_diego_df.columns.map(lambda x: x.split(\".\")[-1])\n",
    "italy_san_diego_df.to_csv('csvs/italian_food_san_diego.csv')"
   ]
  },
  {
   "cell_type": "code",
   "execution_count": 12,
   "id": "5ed6129c",
   "metadata": {},
   "outputs": [],
   "source": [
    "mexican_san_diego_df = pd.json_normalize(get_businesses('San Diego','Mexican',ykey))\n",
    "mexican_san_diego_df.columns = mexican_san_diego_df.columns.map(lambda x: x.split(\".\")[-1])\n",
    "mexican_san_diego_df.to_csv('csvs/mexican_food_san_diego.csv')"
   ]
  },
  {
   "cell_type": "code",
   "execution_count": 18,
   "id": "03112e57",
   "metadata": {},
   "outputs": [],
   "source": [
    "italy_los_angeles_df = pd.json_normalize(get_businesses('Los Angeles','italian',ykey))\n",
    "italy_los_angeles_df.columns = italy_los_angeles_df.columns.map(lambda x: x.split(\".\")[-1])\n",
    "italy_los_angeles_df.to_csv('csvs/italian_food_los_angeles.csv')"
   ]
  },
  {
   "cell_type": "code",
   "execution_count": 8,
   "id": "c82051c1",
   "metadata": {},
   "outputs": [],
   "source": [
    "mexican_los_angeles_df = pd.json_normalize(get_businesses('Los Angeles','Mexican',ykey))\n",
    "mexican_los_angeles_df.columns = mexican_los_angeles_df.columns.map(lambda x: x.split(\".\")[-1])\n",
    "mexican_los_angeles_df.to_csv('csvs/mexican_food_los_angeles.csv')"
   ]
  },
  {
   "cell_type": "code",
   "execution_count": 16,
   "id": "f6982be1",
   "metadata": {},
   "outputs": [],
   "source": [
    "italy_san_jose_df = pd.json_normalize(get_businesses('San Jose','italian',ykey))\n",
    "italy_san_jose_df.columns = italy_san_jose_df.columns.map(lambda x: x.split(\".\")[-1])\n",
    "italy_san_jose_df.to_csv('csvs/italian_food_san_jose.csv')"
   ]
  },
  {
   "cell_type": "code",
   "execution_count": 17,
   "id": "933dcd9b",
   "metadata": {},
   "outputs": [],
   "source": [
    "mexican_san_jose_df = pd.json_normalize(get_businesses('San Jose','Mexican',ykey))\n",
    "mexican_san_jose_df.columns = mexican_san_jose_df.columns.map(lambda x: x.split(\".\")[-1])\n",
    "mexican_san_jose_df.to_csv('csvs/mexican_food_san_jose.csv')"
   ]
  },
  {
   "cell_type": "code",
   "execution_count": null,
   "id": "68e8b923",
   "metadata": {},
   "outputs": [],
   "source": []
  },
  {
   "cell_type": "code",
   "execution_count": null,
   "id": "d0b7263c",
   "metadata": {},
   "outputs": [],
   "source": []
  }
 ],
 "metadata": {
  "kernelspec": {
   "display_name": "PythonData",
   "language": "python",
   "name": "pythondata"
  },
  "language_info": {
   "codemirror_mode": {
    "name": "ipython",
    "version": 3
   },
   "file_extension": ".py",
   "mimetype": "text/x-python",
   "name": "python",
   "nbconvert_exporter": "python",
   "pygments_lexer": "ipython3",
   "version": "3.7.11"
  }
 },
 "nbformat": 4,
 "nbformat_minor": 5
}
